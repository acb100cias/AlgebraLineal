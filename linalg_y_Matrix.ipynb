{
  "nbformat": 4,
  "nbformat_minor": 0,
  "metadata": {
    "colab": {
      "private_outputs": true,
      "provenance": []
    },
    "kernelspec": {
      "name": "python3",
      "display_name": "Python 3"
    },
    "language_info": {
      "name": "python"
    }
  },
  "cells": [
    {
      "cell_type": "code",
      "execution_count": null,
      "metadata": {
        "id": "A0MJhj4ZFsns"
      },
      "outputs": [],
      "source": [
        "import numpy as np"
      ]
    },
    {
      "cell_type": "code",
      "source": [
        "np.array([3,4,5,2.2,3.4])"
      ],
      "metadata": {
        "id": "LoxUKcpHHoPV"
      },
      "execution_count": null,
      "outputs": []
    },
    {
      "cell_type": "code",
      "source": [
        "A=np.array([[0,2],[1,4]])\n",
        "B=np.array([[3,1],[-3,2]])"
      ],
      "metadata": {
        "id": "-RMuJ9U3H1hU"
      },
      "execution_count": null,
      "outputs": []
    },
    {
      "cell_type": "code",
      "source": [
        "A+B"
      ],
      "metadata": {
        "id": "xtOf5J7wICUn"
      },
      "execution_count": null,
      "outputs": []
    },
    {
      "cell_type": "code",
      "source": [
        "np.add(A,B)"
      ],
      "metadata": {
        "id": "pochjqkfIPKU"
      },
      "execution_count": null,
      "outputs": []
    },
    {
      "cell_type": "code",
      "source": [
        "x=np.pi"
      ],
      "metadata": {
        "id": "ATs1v9L5IXsX"
      },
      "execution_count": null,
      "outputs": []
    },
    {
      "cell_type": "code",
      "source": [
        "x"
      ],
      "metadata": {
        "id": "uqXWw191IcRn"
      },
      "execution_count": null,
      "outputs": []
    },
    {
      "cell_type": "code",
      "source": [
        "A*B"
      ],
      "metadata": {
        "id": "t1Bf6qZBIcs7"
      },
      "execution_count": null,
      "outputs": []
    },
    {
      "cell_type": "code",
      "source": [
        "B"
      ],
      "metadata": {
        "id": "ZkDDutMxIh6_"
      },
      "execution_count": null,
      "outputs": []
    },
    {
      "cell_type": "code",
      "source": [
        "A*B.T"
      ],
      "metadata": {
        "id": "l0P-TkeeI4Xj"
      },
      "execution_count": null,
      "outputs": []
    },
    {
      "cell_type": "code",
      "source": [
        "np.dot(A,B)"
      ],
      "metadata": {
        "id": "xr2eC1SHI7Ej"
      },
      "execution_count": null,
      "outputs": []
    },
    {
      "cell_type": "code",
      "source": [
        "A @ B"
      ],
      "metadata": {
        "id": "1rSDEeusJYA6"
      },
      "execution_count": null,
      "outputs": []
    },
    {
      "cell_type": "code",
      "source": [
        "w=np.array([np.pi,np.e])"
      ],
      "metadata": {
        "id": "iSl3BKqHJIvY"
      },
      "execution_count": null,
      "outputs": []
    },
    {
      "cell_type": "code",
      "source": [
        "B"
      ],
      "metadata": {
        "id": "ryNi8CxGJNQj"
      },
      "execution_count": null,
      "outputs": []
    },
    {
      "cell_type": "code",
      "source": [
        "A@w"
      ],
      "metadata": {
        "id": "-1ly1oilJOyO"
      },
      "execution_count": null,
      "outputs": []
    },
    {
      "cell_type": "code",
      "source": [
        "B@w"
      ],
      "metadata": {
        "id": "8zZaRXepJ8QO"
      },
      "execution_count": null,
      "outputs": []
    },
    {
      "cell_type": "code",
      "source": [
        "C=np.array([[1,2,1],[4,4,5],[6,7,7]])"
      ],
      "metadata": {
        "id": "8b9VXxQxKNWo"
      },
      "execution_count": null,
      "outputs": []
    },
    {
      "cell_type": "code",
      "source": [
        "C_=np.linalg.inv(C)\n"
      ],
      "metadata": {
        "id": "KrNYKsxwKzD7"
      },
      "execution_count": null,
      "outputs": []
    },
    {
      "cell_type": "code",
      "source": [
        "np.round(C@C_)"
      ],
      "metadata": {
        "id": "LAMci0VvK3j3"
      },
      "execution_count": null,
      "outputs": []
    },
    {
      "cell_type": "code",
      "source": [
        "T=np.array([[1,3,5],[2,2,-1],[1,3,2]])\n",
        "b=np.array([[-1],[1],[-2]])"
      ],
      "metadata": {
        "id": "SpY34SMTLHYZ"
      },
      "execution_count": null,
      "outputs": []
    },
    {
      "cell_type": "code",
      "source": [
        "np.linalg.solve(T,b)"
      ],
      "metadata": {
        "id": "ixI86WKrMVTq"
      },
      "execution_count": null,
      "outputs": []
    },
    {
      "cell_type": "code",
      "source": [
        "np.linalg.inv(T)"
      ],
      "metadata": {
        "id": "KQl_eBvHMfvV"
      },
      "execution_count": null,
      "outputs": []
    },
    {
      "cell_type": "code",
      "source": [
        "np.linalg.det(T)"
      ],
      "metadata": {
        "id": "hjNjVeknMx0F"
      },
      "execution_count": null,
      "outputs": []
    },
    {
      "cell_type": "code",
      "source": [
        "A_=np.linalg.inv(A)"
      ],
      "metadata": {
        "id": "7I2rtlghM96z"
      },
      "execution_count": null,
      "outputs": []
    },
    {
      "cell_type": "code",
      "source": [
        "A@A_"
      ],
      "metadata": {
        "id": "sqjvm-9SNB4Z"
      },
      "execution_count": null,
      "outputs": []
    },
    {
      "cell_type": "code",
      "source": [
        "A_@A"
      ],
      "metadata": {
        "id": "sXCQYR0LNLoS"
      },
      "execution_count": null,
      "outputs": []
    },
    {
      "cell_type": "code",
      "source": [
        "np.linalg.det(A_)"
      ],
      "metadata": {
        "id": "a66IZGgVNOTi"
      },
      "execution_count": null,
      "outputs": []
    },
    {
      "cell_type": "code",
      "source": [
        "from sympy import Matrix\n",
        "import sympy as sp"
      ],
      "metadata": {
        "id": "VfISPaIONTY8"
      },
      "execution_count": null,
      "outputs": []
    },
    {
      "cell_type": "code",
      "source": [
        "A = Matrix([[1, 0, 1],\n",
        "            [0,sp.pi , 1]])"
      ],
      "metadata": {
        "id": "W1UEzR7CNiIe"
      },
      "execution_count": null,
      "outputs": []
    },
    {
      "cell_type": "code",
      "source": [
        "A"
      ],
      "metadata": {
        "id": "LUBjIpyVNmCD"
      },
      "execution_count": null,
      "outputs": []
    },
    {
      "cell_type": "code",
      "source": [
        "B = Matrix([[1, 2, 3, -1],\n",
        "            [2, -1, -4, 8],\n",
        "            [-1, 1, 3, -5],\n",
        "            [-1, 2, 5, -6],\n",
        "            [-1, -2, -3, 1]])"
      ],
      "metadata": {
        "id": "QceKWfLPNnEl"
      },
      "execution_count": null,
      "outputs": []
    },
    {
      "cell_type": "code",
      "source": [
        "B"
      ],
      "metadata": {
        "id": "-0S2Jxn_N7mE"
      },
      "execution_count": null,
      "outputs": []
    },
    {
      "cell_type": "code",
      "source": [
        "B.rref()"
      ],
      "metadata": {
        "id": "UWN0DDI4N8i9"
      },
      "execution_count": null,
      "outputs": []
    },
    {
      "cell_type": "code",
      "source": [
        "A.rref()"
      ],
      "metadata": {
        "id": "3QN_3-u8OG6Y"
      },
      "execution_count": null,
      "outputs": []
    },
    {
      "cell_type": "code",
      "source": [],
      "metadata": {
        "id": "jEKpFAR2ObKJ"
      },
      "execution_count": null,
      "outputs": []
    }
  ]
}