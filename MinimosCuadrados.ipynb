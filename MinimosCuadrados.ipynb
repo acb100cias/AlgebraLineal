{
  "nbformat": 4,
  "nbformat_minor": 0,
  "metadata": {
    "colab": {
      "private_outputs": true,
      "provenance": [],
      "authorship_tag": "ABX9TyPA4Z/JROjpM6lwmklaGfdf",
      "include_colab_link": true
    },
    "kernelspec": {
      "name": "python3",
      "display_name": "Python 3"
    },
    "language_info": {
      "name": "python"
    }
  },
  "cells": [
    {
      "cell_type": "markdown",
      "metadata": {
        "id": "view-in-github",
        "colab_type": "text"
      },
      "source": [
        "<a href=\"https://colab.research.google.com/github/acb100cias/AlgebraLineal/blob/main/MinimosCuadrados.ipynb\" target=\"_parent\"><img src=\"https://colab.research.google.com/assets/colab-badge.svg\" alt=\"Open In Colab\"/></a>"
      ]
    },
    {
      "cell_type": "code",
      "execution_count": null,
      "metadata": {
        "id": "SPoU91P_iZwp"
      },
      "outputs": [],
      "source": [
        "import numpy as np\n",
        "from scipy import optimize as opt\n",
        "import matplotlib.pyplot as plt\n"
      ]
    },
    {
      "cell_type": "code",
      "source": [
        "x = np.arange(0,1,0.01)\n",
        "y= 1+x+x*np.random.random(len(x))"
      ],
      "metadata": {
        "id": "2xzuF9YlitXN"
      },
      "execution_count": null,
      "outputs": []
    },
    {
      "cell_type": "code",
      "source": [
        "A=np.array([np.ones(len(x)),x]).T"
      ],
      "metadata": {
        "id": "DMS1oM1Ii978"
      },
      "execution_count": null,
      "outputs": []
    },
    {
      "cell_type": "code",
      "source": [
        "A2=np.dot(A.T,A)"
      ],
      "metadata": {
        "id": "Ncq3Cuw2i_FE"
      },
      "execution_count": null,
      "outputs": []
    },
    {
      "cell_type": "code",
      "source": [
        "b2=np.dot(A.T,y)"
      ],
      "metadata": {
        "id": "urFneNkcjabU"
      },
      "execution_count": null,
      "outputs": []
    },
    {
      "cell_type": "code",
      "source": [
        "b2"
      ],
      "metadata": {
        "id": "VpxJDtiLjxDL"
      },
      "execution_count": null,
      "outputs": []
    },
    {
      "cell_type": "code",
      "source": [
        "a,b=np.linalg.solve(A2,b2)"
      ],
      "metadata": {
        "id": "oEN1fyrVj2bl"
      },
      "execution_count": null,
      "outputs": []
    },
    {
      "cell_type": "code",
      "source": [
        "b"
      ],
      "metadata": {
        "id": "Ond3rLXpkdNr"
      },
      "execution_count": null,
      "outputs": []
    },
    {
      "cell_type": "code",
      "source": [],
      "metadata": {
        "id": "Ph077Q-ekezs"
      },
      "execution_count": null,
      "outputs": []
    },
    {
      "cell_type": "markdown",
      "source": [],
      "metadata": {
        "id": "R_OyEMKMkcKm"
      }
    },
    {
      "cell_type": "markdown",
      "source": [],
      "metadata": {
        "id": "JybY-xltkbTP"
      }
    },
    {
      "cell_type": "code",
      "source": [
        "plt.plot(x,y,'.')\n",
        "plt.plot(x,a*x+b)"
      ],
      "metadata": {
        "id": "fD99rkKXkCFw"
      },
      "execution_count": null,
      "outputs": []
    },
    {
      "cell_type": "code",
      "source": [
        "c,d=np.linalg.lstsq(A,y)[0]"
      ],
      "metadata": {
        "id": "g8vXMGBikQgO"
      },
      "execution_count": null,
      "outputs": []
    },
    {
      "cell_type": "code",
      "source": [
        "plt.plot(x,y,'.')\n",
        "plt.plot(x,c*x+d)"
      ],
      "metadata": {
        "id": "zK4w1AVFlW_Y"
      },
      "execution_count": null,
      "outputs": []
    },
    {
      "cell_type": "code",
      "source": [
        "def f(x,a,b):\n",
        "  y=a*x+b\n",
        "  return y\n",
        ""
      ],
      "metadata": {
        "id": "f9yBuGtylhVY"
      },
      "execution_count": null,
      "outputs": []
    },
    {
      "cell_type": "code",
      "source": [
        "S=opt.curve_fit(f,x,y)"
      ],
      "metadata": {
        "id": "tGLgVShbl2lG"
      },
      "execution_count": null,
      "outputs": []
    },
    {
      "cell_type": "code",
      "source": [
        "e,f=S[0]"
      ],
      "metadata": {
        "id": "ccb7cJpTmCOf"
      },
      "execution_count": null,
      "outputs": []
    },
    {
      "cell_type": "code",
      "source": [
        "plt.plot(x,y,'.')\n",
        "plt.plot(x,e*x+f)"
      ],
      "metadata": {
        "id": "nLEIPgWVmKgp"
      },
      "execution_count": null,
      "outputs": []
    },
    {
      "cell_type": "code",
      "source": [],
      "metadata": {
        "id": "BJ9bwaUlmPqf"
      },
      "execution_count": null,
      "outputs": []
    }
  ]
}