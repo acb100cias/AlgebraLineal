{
  "nbformat": 4,
  "nbformat_minor": 0,
  "metadata": {
    "colab": {
      "private_outputs": true,
      "provenance": [],
      "authorship_tag": "ABX9TyNCWYcI5uxFWOAfFDvNpWH2",
      "include_colab_link": true
    },
    "kernelspec": {
      "name": "python3",
      "display_name": "Python 3"
    },
    "language_info": {
      "name": "python"
    }
  },
  "cells": [
    {
      "cell_type": "markdown",
      "metadata": {
        "id": "view-in-github",
        "colab_type": "text"
      },
      "source": [
        "<a href=\"https://colab.research.google.com/github/acb100cias/AlgebraLineal/blob/main/%C3%81lgebraLineal1.ipynb\" target=\"_parent\"><img src=\"https://colab.research.google.com/assets/colab-badge.svg\" alt=\"Open In Colab\"/></a>"
      ]
    },
    {
      "cell_type": "code",
      "execution_count": null,
      "metadata": {
        "id": "G2w_PbI0vYe6"
      },
      "outputs": [],
      "source": [
        "import numpy as np\n",
        "import scipy as sc"
      ]
    },
    {
      "cell_type": "code",
      "source": [
        "A1=np.array([1,2,3,4,5,6,10])"
      ],
      "metadata": {
        "id": "bjY5GjH0vmt5"
      },
      "execution_count": null,
      "outputs": []
    },
    {
      "cell_type": "code",
      "source": [
        "np.exp(np.sqrt(np.e*A1))"
      ],
      "metadata": {
        "id": "qAgQjO65wh5W"
      },
      "execution_count": null,
      "outputs": []
    },
    {
      "cell_type": "code",
      "source": [
        "x=np.array([3,4,1])\n",
        "y=np.array([2,-3,4])\n"
      ],
      "metadata": {
        "id": "kv4gPBgDwkQG"
      },
      "execution_count": null,
      "outputs": []
    },
    {
      "cell_type": "code",
      "source": [
        "x"
      ],
      "metadata": {
        "id": "01FgtN52wvfC"
      },
      "execution_count": null,
      "outputs": []
    },
    {
      "cell_type": "code",
      "source": [
        "y"
      ],
      "metadata": {
        "id": "AoomEdncx5AZ"
      },
      "execution_count": null,
      "outputs": []
    },
    {
      "cell_type": "code",
      "source": [
        "np.dot(x,y)"
      ],
      "metadata": {
        "id": "UpWN_og6x5zn"
      },
      "execution_count": null,
      "outputs": []
    },
    {
      "cell_type": "code",
      "source": [
        "np.linalg.norm(y)"
      ],
      "metadata": {
        "id": "W9VSi6BeyPJJ"
      },
      "execution_count": null,
      "outputs": []
    },
    {
      "cell_type": "code",
      "source": [
        "np.dot(x,y)/np.linalg.norm(x)*np.linalg.norm(y)"
      ],
      "metadata": {
        "id": "kZm4EJH_x91W"
      },
      "execution_count": null,
      "outputs": []
    },
    {
      "cell_type": "code",
      "source": [
        "A=np.array([[2,6],[80,1]])\n",
        "B=np.array([[8,4],[9,10]])"
      ],
      "metadata": {
        "id": "3ViuMp4GyZdw"
      },
      "execution_count": null,
      "outputs": []
    },
    {
      "cell_type": "code",
      "source": [
        "B*A"
      ],
      "metadata": {
        "id": "BsXPhuOpyz2I"
      },
      "execution_count": null,
      "outputs": []
    },
    {
      "cell_type": "code",
      "source": [
        "np.dot(B,A)"
      ],
      "metadata": {
        "id": "vb2mVuXOy-nJ"
      },
      "execution_count": null,
      "outputs": []
    },
    {
      "cell_type": "code",
      "source": [
        "np.dot(A,B)"
      ],
      "metadata": {
        "id": "k9A1QwGFzO-Z"
      },
      "execution_count": null,
      "outputs": []
    },
    {
      "cell_type": "code",
      "source": [
        "np.matmul(A,B)"
      ],
      "metadata": {
        "id": "rje0lFidzR_J"
      },
      "execution_count": null,
      "outputs": []
    },
    {
      "cell_type": "code",
      "source": [
        "A2=np.random.random((50,50))\n",
        "B2=np.random.random((50,50))"
      ],
      "metadata": {
        "id": "Y0gYMu8IzfBu"
      },
      "execution_count": null,
      "outputs": []
    },
    {
      "cell_type": "code",
      "source": [
        "np.dot(A2,B2)"
      ],
      "metadata": {
        "id": "LqxxIum0zwV-"
      },
      "execution_count": null,
      "outputs": []
    },
    {
      "cell_type": "code",
      "source": [
        "A2.T"
      ],
      "metadata": {
        "id": "3oxkqyRk0CZ9"
      },
      "execution_count": null,
      "outputs": []
    },
    {
      "cell_type": "code",
      "source": [
        "np.linalg.det(B2)"
      ],
      "metadata": {
        "id": "kB_pRfv70L1J"
      },
      "execution_count": null,
      "outputs": []
    },
    {
      "cell_type": "code",
      "source": [
        "np.round(np.dot(np.linalg.inv(A2),A2),9)"
      ],
      "metadata": {
        "id": "NderDjPy0Tp8"
      },
      "execution_count": null,
      "outputs": []
    },
    {
      "cell_type": "code",
      "source": [],
      "metadata": {
        "id": "i1K3jpl10dNy"
      },
      "execution_count": null,
      "outputs": []
    }
  ]
}