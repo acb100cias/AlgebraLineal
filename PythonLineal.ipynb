{
  "nbformat": 4,
  "nbformat_minor": 0,
  "metadata": {
    "colab": {
      "private_outputs": true,
      "provenance": [],
      "authorship_tag": "ABX9TyNzCO9MAIWODRvNyl4Qeix+",
      "include_colab_link": true
    },
    "kernelspec": {
      "name": "python3",
      "display_name": "Python 3"
    },
    "language_info": {
      "name": "python"
    }
  },
  "cells": [
    {
      "cell_type": "markdown",
      "metadata": {
        "id": "view-in-github",
        "colab_type": "text"
      },
      "source": [
        "<a href=\"https://colab.research.google.com/github/acb100cias/AlgebraLineal/blob/main/PythonLineal.ipynb\" target=\"_parent\"><img src=\"https://colab.research.google.com/assets/colab-badge.svg\" alt=\"Open In Colab\"/></a>"
      ]
    },
    {
      "cell_type": "code",
      "execution_count": null,
      "metadata": {
        "id": "Kze4ZYFSL_Wl"
      },
      "outputs": [],
      "source": [
        "import matplotlib.pyplot as plt\n",
        "import numpy as np\n",
        "import sympy as sy"
      ]
    },
    {
      "cell_type": "code",
      "source": [
        "np.linalg.norm(np.array([20,20]))"
      ],
      "metadata": {
        "id": "km-v3ceWN8kd"
      },
      "execution_count": null,
      "outputs": []
    },
    {
      "cell_type": "code",
      "source": [
        "x=np.array([13.4,25.6])\n",
        "y=np.array([-3.4,5.6])"
      ],
      "metadata": {
        "id": "3B68lI4wOqvO"
      },
      "execution_count": null,
      "outputs": []
    },
    {
      "cell_type": "code",
      "source": [
        "np.dot(x,y)/(np.linalg.norm(x)*np.linalg.norm(y))"
      ],
      "metadata": {
        "id": "vQLuHfPwPGTJ"
      },
      "execution_count": null,
      "outputs": []
    },
    {
      "cell_type": "code",
      "source": [
        "x = np.linspace(-5, 5, 100)\n",
        "y1 = -x + 6\n",
        "y2 = x + 4"
      ],
      "metadata": {
        "id": "QMW3WGluPIZL"
      },
      "execution_count": null,
      "outputs": []
    },
    {
      "cell_type": "code",
      "source": [
        "M = sy.Matrix([[5, 0, 11, 3], [7, 23, -3, 7], [12, 11, 3, -4]])"
      ],
      "metadata": {
        "id": "9cTdHuJKPuKd"
      },
      "execution_count": null,
      "outputs": []
    },
    {
      "cell_type": "code",
      "source": [
        "M"
      ],
      "metadata": {
        "id": "nHzX-iXnQCmM"
      },
      "execution_count": null,
      "outputs": []
    },
    {
      "cell_type": "code",
      "source": [
        "M.rref()"
      ],
      "metadata": {
        "id": "qL0Y_TBOQDKL"
      },
      "execution_count": null,
      "outputs": []
    },
    {
      "cell_type": "code",
      "source": [
        "A = sy.Matrix([[3, 6, 2, -13], [1, 2, 1, -5], [-5, -10, -2, 19]])"
      ],
      "metadata": {
        "id": "Jlo9S__cQKKG"
      },
      "execution_count": null,
      "outputs": []
    },
    {
      "cell_type": "code",
      "source": [
        "A"
      ],
      "metadata": {
        "id": "7amijl8MQSJ7"
      },
      "execution_count": null,
      "outputs": []
    },
    {
      "cell_type": "code",
      "source": [
        "A.rref()"
      ],
      "metadata": {
        "id": "kppwFqkAQSno"
      },
      "execution_count": null,
      "outputs": []
    },
    {
      "cell_type": "code",
      "source": [
        "A = sy.Matrix([[1, 1, 1, 1, 3], [1, 2, 4, 8, -2], [1, 3, 9, 27, -5], [1, 4, 16, 64, 0]])"
      ],
      "metadata": {
        "id": "1PzRYpoAQV6r"
      },
      "execution_count": null,
      "outputs": []
    },
    {
      "cell_type": "code",
      "source": [
        "A.rref()"
      ],
      "metadata": {
        "id": "ndlAkcrZQkw3"
      },
      "execution_count": null,
      "outputs": []
    },
    {
      "cell_type": "code",
      "source": [
        "A = sy.Matrix([[1, 1, 1, 1, 1, 2],\n",
        "               [1, 2, 4, 8, 16, 5],\n",
        "               [1, 3, 9, 27, 81, 8],\n",
        "               [1, 4, 16, 64, 256, 6],\n",
        "               [1, 5, 25,125, 625, 9]])"
      ],
      "metadata": {
        "id": "x6V2A4NdQlSK"
      },
      "execution_count": null,
      "outputs": []
    },
    {
      "cell_type": "code",
      "source": [
        "A_rref = A.rref()"
      ],
      "metadata": {
        "id": "UP6fvaW-QvgK"
      },
      "execution_count": null,
      "outputs": []
    },
    {
      "cell_type": "code",
      "source": [
        "\n",
        "A_rref = np.array(A_rref[0])"
      ],
      "metadata": {
        "id": "bYR3rNnQQzqR"
      },
      "execution_count": null,
      "outputs": []
    },
    {
      "cell_type": "code",
      "source": [
        "A_rref"
      ],
      "metadata": {
        "id": "pZad3C1DQ1yk"
      },
      "execution_count": null,
      "outputs": []
    },
    {
      "cell_type": "code",
      "source": [
        "a, b, c, d, e, f, g, h, i, j, k, l, m, n, o, p, q, r, s, t, u, v, w, x, y, z = sy.symbols('a, b, c, d, e, f, g, h, i, j, k, l, m, n, o, p, q, r, s, t, u, v, w, x, y, z', real = True)\n"
      ],
      "metadata": {
        "id": "giUdbi1ZQ3Us"
      },
      "execution_count": null,
      "outputs": []
    },
    {
      "cell_type": "code",
      "source": [
        "A = sy.Matrix([[a, b, c], [d, e, f]])\n"
      ],
      "metadata": {
        "id": "59NC_xDyROQj"
      },
      "execution_count": null,
      "outputs": []
    },
    {
      "cell_type": "code",
      "source": [
        "A = sy.Matrix([[a, b], [d, e]])\n",
        "A + A\n"
      ],
      "metadata": {
        "id": "5feOtr5jRSR6"
      },
      "execution_count": null,
      "outputs": []
    },
    {
      "cell_type": "code",
      "source": [
        "A*A"
      ],
      "metadata": {
        "id": "FVgxM8UiRTu7"
      },
      "execution_count": null,
      "outputs": []
    },
    {
      "cell_type": "code",
      "source": [
        "B = sy.Matrix([[a,b,c,d],[g, h, i,e], [j, k, l,a], [m, n, o,b]])"
      ],
      "metadata": {
        "id": "7I1O0IVvRV34"
      },
      "execution_count": null,
      "outputs": []
    },
    {
      "cell_type": "code",
      "source": [
        "B.inv()"
      ],
      "metadata": {
        "id": "URFi3QrDRxPH"
      },
      "execution_count": null,
      "outputs": []
    },
    {
      "cell_type": "code",
      "source": [
        "\n",
        "# Define symbolic entries for A (2x2 matrix)\n",
        "a, b, c, d = sy.symbols('a b c d')\n",
        "\n",
        "# Define symbolic entries for B (2x2 matrix)\n",
        "e, f, g, h = sy.symbols('e f g h')\n",
        "\n",
        "# Define matrices A and B\n",
        "A = sy.Matrix([[a, b], [c, d]])\n",
        "B = sy.Matrix([[e, f], [g, h]])\n",
        "\n",
        "# Compute AB and BA\n",
        "AB = A * B\n",
        "BA = B * A\n",
        "\n"
      ],
      "metadata": {
        "id": "UL0EO6x0RyLw"
      },
      "execution_count": null,
      "outputs": []
    },
    {
      "cell_type": "code",
      "source": [
        "AB"
      ],
      "metadata": {
        "id": "3HP6PE-ZS1D9"
      },
      "execution_count": null,
      "outputs": []
    },
    {
      "cell_type": "code",
      "source": [
        "BA"
      ],
      "metadata": {
        "id": "UVDulpK0S15B"
      },
      "execution_count": null,
      "outputs": []
    },
    {
      "cell_type": "code",
      "source": [
        "# Set up equations AB = BA\n",
        "equations = [\n",
        "    sy.Eq(AB[i, j], BA[i, j]) for i in range(2) for j in range(2)\n",
        "]\n",
        "\n",
        "# Solve the system of equations\n",
        "solution = sy.solve(equations, (e, f, g, h))\n"
      ],
      "metadata": {
        "id": "x0pxIKPfS2nG"
      },
      "execution_count": null,
      "outputs": []
    },
    {
      "cell_type": "code",
      "source": [
        "solution"
      ],
      "metadata": {
        "id": "60Bdli7xTQL5"
      },
      "execution_count": null,
      "outputs": []
    },
    {
      "cell_type": "code",
      "source": [
        "\n",
        "# Print the general solutions\n",
        "print(\"Solution for B elements:\")\n",
        "for sol in solution:\n",
        "    print(f\"{sol}: {solution[sol]}\")\n",
        "\n"
      ],
      "metadata": {
        "id": "mDiSM2MaTLRr"
      },
      "execution_count": null,
      "outputs": []
    },
    {
      "cell_type": "code",
      "source": [
        "# To express the solution in a parameterized form, let's substitute specific values\n",
        "# Define parameters c1 and c2\n",
        "c1, c2 = sy.symbols('c1 c2')\n",
        "\n",
        "# Define the parameterized solution\n",
        "parametric_solution = {\n",
        "    e: solution[e].subs({g: c1, h: c2}),\n",
        "    f: solution[f].subs({g: c1, h: c2}),\n",
        "    g: c1,\n",
        "    h: c2\n",
        "}\n",
        "\n",
        "# Print the parameterized solution in LaTeX format\n",
        "print(\"\\nParameterized solution in LaTeX format:\")\n",
        "for sol in parametric_solution:\n",
        "    print(f\"{sy.latex(sol)}: {sy.latex(parametric_solution[sol])}\")"
      ],
      "metadata": {
        "id": "lWoiD7FPTULG"
      },
      "execution_count": null,
      "outputs": []
    },
    {
      "cell_type": "code",
      "source": [
        "sy.eye(10)"
      ],
      "metadata": {
        "id": "E09ybn3WTmdU"
      },
      "execution_count": null,
      "outputs": []
    },
    {
      "cell_type": "code",
      "source": [
        "I=np.eye(10)"
      ],
      "metadata": {
        "id": "obXmFH32T3AX"
      },
      "execution_count": null,
      "outputs": []
    },
    {
      "cell_type": "code",
      "source": [
        "A = np.around(np.random.random([10,10])*100)"
      ],
      "metadata": {
        "id": "YT6lQ1ggT60q"
      },
      "execution_count": null,
      "outputs": []
    },
    {
      "cell_type": "code",
      "source": [
        "np.dot(I,A)"
      ],
      "metadata": {
        "id": "5sHV1RaHUHXZ"
      },
      "execution_count": null,
      "outputs": []
    },
    {
      "cell_type": "code",
      "source": [
        "sy.randMatrix(10,percent=50)"
      ],
      "metadata": {
        "id": "Dg40vwDiUL0L"
      },
      "execution_count": null,
      "outputs": []
    },
    {
      "cell_type": "code",
      "source": [
        "\n",
        "A = np.array([[9, 3, 6], [3, 4, 6], [0, 8, 8]])"
      ],
      "metadata": {
        "id": "cH4KDMTEUfmm"
      },
      "execution_count": null,
      "outputs": []
    },
    {
      "cell_type": "code",
      "source": [
        "import scipy as sp\n",
        "p,l,u=sp.linalg.lu(A)"
      ],
      "metadata": {
        "id": "zqstLhbFVPas"
      },
      "execution_count": null,
      "outputs": []
    },
    {
      "cell_type": "code",
      "source": [
        "p@l@u==A"
      ],
      "metadata": {
        "id": "FwbWwLfeVa2V"
      },
      "execution_count": null,
      "outputs": []
    },
    {
      "cell_type": "code",
      "source": [
        "sp.linalg.ldl(A)"
      ],
      "metadata": {
        "id": "NHP6v0hFV-iO"
      },
      "execution_count": null,
      "outputs": []
    },
    {
      "cell_type": "code",
      "source": [
        "np.dot(np.linalg.eig(A)[1][0],np.linalg.eig(A)[1][1])"
      ],
      "metadata": {
        "id": "N3EvhU5pWO7t"
      },
      "execution_count": null,
      "outputs": []
    },
    {
      "cell_type": "code",
      "source": [
        "P=sy.Matrix(np.linalg.eig(A)[1])"
      ],
      "metadata": {
        "id": "Nk0brNS9WtO3"
      },
      "execution_count": null,
      "outputs": []
    },
    {
      "cell_type": "code",
      "source": [
        "sy.GramSchmidt(np.linalg.eig(A)[1])"
      ],
      "metadata": {
        "id": "XsfoL7AdXEWu"
      },
      "execution_count": null,
      "outputs": []
    },
    {
      "cell_type": "code",
      "source": [
        "q,r=np.linalg.qr(np.linalg.eig(A)[1])"
      ],
      "metadata": {
        "id": "CDS9kG8YXt9s"
      },
      "execution_count": null,
      "outputs": []
    },
    {
      "cell_type": "code",
      "source": [
        "np.linalg.qr(np.linalg.eig(A)[1])"
      ],
      "metadata": {
        "id": "qjlR4j0lYgAZ"
      },
      "execution_count": null,
      "outputs": []
    },
    {
      "cell_type": "code",
      "source": [
        "r"
      ],
      "metadata": {
        "id": "c6SzxFQsYixQ"
      },
      "execution_count": null,
      "outputs": []
    },
    {
      "cell_type": "code",
      "source": [
        "np.round(q[1]@q[2],4)"
      ],
      "metadata": {
        "id": "6jk8yHsbZHot"
      },
      "execution_count": null,
      "outputs": []
    },
    {
      "cell_type": "code",
      "source": [
        "A = np.array([[4, -3], [-3, 2], [2, -1], [1, 0]])"
      ],
      "metadata": {
        "id": "xisYyGlGZXCy"
      },
      "execution_count": null,
      "outputs": []
    },
    {
      "cell_type": "code",
      "source": [
        "A"
      ],
      "metadata": {
        "id": "T5i4fdtHZq7H"
      },
      "execution_count": null,
      "outputs": []
    },
    {
      "cell_type": "code",
      "source": [
        "D1, P1 = np.linalg.eig(A.T@A)"
      ],
      "metadata": {
        "id": "4O9tQcYaZraB"
      },
      "execution_count": null,
      "outputs": []
    },
    {
      "cell_type": "code",
      "source": [
        "D1"
      ],
      "metadata": {
        "id": "ioCinTvnZyQH"
      },
      "execution_count": null,
      "outputs": []
    },
    {
      "cell_type": "code",
      "source": [
        "np.linalg.svd(A)"
      ],
      "metadata": {
        "id": "9eQlEefgZ4rp"
      },
      "execution_count": null,
      "outputs": []
    },
    {
      "cell_type": "code",
      "source": [
        "A = np.random.rand(10, 2)"
      ],
      "metadata": {
        "id": "jVCM8brpaCyy"
      },
      "execution_count": null,
      "outputs": []
    },
    {
      "cell_type": "code",
      "source": [
        "A"
      ],
      "metadata": {
        "id": "27TqCmz4aV65"
      },
      "execution_count": null,
      "outputs": []
    },
    {
      "cell_type": "code",
      "source": [
        "U, S, VT = np.linalg.svd(A, full_matrices=False)"
      ],
      "metadata": {
        "id": "vdeki57kaWhD"
      },
      "execution_count": null,
      "outputs": []
    },
    {
      "cell_type": "code",
      "source": [
        "# Keep only the first dimension\n",
        "A_reduced = np.dot(U[:, :1], np.dot(np.diag(S[:1]), VT[:1, :]))\n",
        "\n",
        "# Plot original data\n",
        "plt.scatter(A[:, 0], A[:, 1])\n",
        "plt.title(\"Original $A$\")\n",
        "plt.show()\n",
        "\n",
        "# Plot reduced data\n",
        "plt.scatter(A_reduced[:, 0], A_reduced[:, 1])\n",
        "plt.title(\"$A$ with Reduced Dimensionality\")\n",
        "plt.show()"
      ],
      "metadata": {
        "id": "FO4l9q1taZ1a"
      },
      "execution_count": null,
      "outputs": []
    },
    {
      "cell_type": "code",
      "source": [],
      "metadata": {
        "id": "czp8TFCval8E"
      },
      "execution_count": null,
      "outputs": []
    }
  ]
}