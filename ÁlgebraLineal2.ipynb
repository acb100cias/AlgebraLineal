{
  "nbformat": 4,
  "nbformat_minor": 0,
  "metadata": {
    "colab": {
      "private_outputs": true,
      "provenance": [],
      "authorship_tag": "ABX9TyPQpS6akkJDofdv6p5cWLaR",
      "include_colab_link": true
    },
    "kernelspec": {
      "name": "python3",
      "display_name": "Python 3"
    },
    "language_info": {
      "name": "python"
    }
  },
  "cells": [
    {
      "cell_type": "markdown",
      "metadata": {
        "id": "view-in-github",
        "colab_type": "text"
      },
      "source": [
        "<a href=\"https://colab.research.google.com/github/acb100cias/AlgebraLineal/blob/main/%C3%81lgebraLineal2.ipynb\" target=\"_parent\"><img src=\"https://colab.research.google.com/assets/colab-badge.svg\" alt=\"Open In Colab\"/></a>"
      ]
    },
    {
      "cell_type": "code",
      "execution_count": null,
      "metadata": {
        "id": "AnPOwHd33DHX"
      },
      "outputs": [],
      "source": [
        "import numpy as np\n",
        "import scipy as sc"
      ]
    },
    {
      "cell_type": "code",
      "source": [
        "A=np.array([[1,2,4],[-2,0,3],[5,-1,2]])"
      ],
      "metadata": {
        "id": "VDx_Nn6-4IBC"
      },
      "execution_count": null,
      "outputs": []
    },
    {
      "cell_type": "code",
      "source": [
        "A"
      ],
      "metadata": {
        "id": "p3yW1y3Y4ZMn"
      },
      "execution_count": null,
      "outputs": []
    },
    {
      "cell_type": "code",
      "source": [
        "np.linalg.det(A)"
      ],
      "metadata": {
        "id": "T45gZKuv4aLd"
      },
      "execution_count": null,
      "outputs": []
    },
    {
      "cell_type": "code",
      "source": [
        "A_=np.linalg.inv(A)"
      ],
      "metadata": {
        "id": "Z1zRnT6W4ggW"
      },
      "execution_count": null,
      "outputs": []
    },
    {
      "cell_type": "code",
      "source": [
        "np.dot(A,A_).round(4)"
      ],
      "metadata": {
        "id": "TlNu61OR4jNC"
      },
      "execution_count": null,
      "outputs": []
    },
    {
      "cell_type": "markdown",
      "source": [
        "#Sistemas de ecuaciones#\n",
        "\n",
        "$2x_1+x_2+x_3=1\\\\ 6x_1+2x_2+x_3=-1\\\\-2x_1+2x_2+x_3=7$"
      ],
      "metadata": {
        "id": "oKds7nmy5AY1"
      }
    },
    {
      "cell_type": "code",
      "source": [
        "A=np.array([[2,1,1],[6,2,1],[-2,2,1]])\n",
        "b=np.array([1.,-1.,7.])"
      ],
      "metadata": {
        "id": "sYUoLXm-4qvt"
      },
      "execution_count": null,
      "outputs": []
    },
    {
      "cell_type": "code",
      "source": [
        "x=np.linalg.solve(A,b)"
      ],
      "metadata": {
        "id": "Bmhvf8Ma532S"
      },
      "execution_count": null,
      "outputs": []
    },
    {
      "cell_type": "code",
      "source": [
        "x"
      ],
      "metadata": {
        "id": "CjZ6blKZ5-Dq"
      },
      "execution_count": null,
      "outputs": []
    },
    {
      "cell_type": "code",
      "source": [
        "np.round(np.dot(A,x)-b,10)\n"
      ],
      "metadata": {
        "id": "LYB_4p105-ks"
      },
      "execution_count": null,
      "outputs": []
    },
    {
      "cell_type": "code",
      "source": [
        "np.dot(x,b)/np.dot(b,b)*x"
      ],
      "metadata": {
        "id": "OILvRN8U6F3q"
      },
      "execution_count": null,
      "outputs": []
    },
    {
      "cell_type": "code",
      "source": [
        "A"
      ],
      "metadata": {
        "id": "5kEtMuoO6qPR"
      },
      "execution_count": null,
      "outputs": []
    },
    {
      "cell_type": "code",
      "source": [
        "np.linalg.eig(A)"
      ],
      "metadata": {
        "id": "MsbDZxhk61cG"
      },
      "execution_count": null,
      "outputs": []
    },
    {
      "cell_type": "code",
      "source": [
        "np.linalg.eig(A_)"
      ],
      "metadata": {
        "id": "SOkDBl8668Np"
      },
      "execution_count": null,
      "outputs": []
    },
    {
      "cell_type": "code",
      "source": [
        "np.linalg.eigvals(A)"
      ],
      "metadata": {
        "id": "e_BrRppw7DT0"
      },
      "execution_count": null,
      "outputs": []
    },
    {
      "cell_type": "code",
      "source": [
        "sc.linalg.lu(A)"
      ],
      "metadata": {
        "id": "IPsknjmW7PpK"
      },
      "execution_count": null,
      "outputs": []
    },
    {
      "cell_type": "code",
      "source": [
        "sc.linalg.inv(A)@A"
      ],
      "metadata": {
        "id": "_efzm5zW7mCH"
      },
      "execution_count": null,
      "outputs": []
    },
    {
      "cell_type": "code",
      "source": [
        "np.diag(A)"
      ],
      "metadata": {
        "id": "eD_muNYx7wEg"
      },
      "execution_count": null,
      "outputs": []
    },
    {
      "cell_type": "code",
      "source": [
        "np.linalg.matrix_rank(A)"
      ],
      "metadata": {
        "id": "saK2oSS78FLz"
      },
      "execution_count": null,
      "outputs": []
    },
    {
      "cell_type": "code",
      "source": [
        "np.kron(A,A)"
      ],
      "metadata": {
        "id": "yjpT8xYh8Gjd"
      },
      "execution_count": null,
      "outputs": []
    },
    {
      "cell_type": "code",
      "source": [
        "np.linalg.matrix_power(A,10)"
      ],
      "metadata": {
        "id": "s3gX41KS8Xc8"
      },
      "execution_count": null,
      "outputs": []
    },
    {
      "cell_type": "code",
      "source": [
        "def gs_coeff(v1,v2):\n",
        "  return np.dot(v1,v2)/np.dot(v2,v2)\n",
        "def proj(v1,v2):\n",
        "  return gs_coeff(v1,v2)*v2\n",
        "\n",
        "def gs(X):\n",
        "  Y=[]\n",
        "  for i in range(len(X)):\n",
        "    vec=X[i]\n",
        "    for j in Y:\n",
        "      pvec=proj(X[i],j)\n",
        "      vec=vec-pvec\n",
        "    Y.append(vec)\n",
        "    #print(Y)\n",
        "  return Y"
      ],
      "metadata": {
        "id": "nRZxzrSO8gzj"
      },
      "execution_count": null,
      "outputs": []
    },
    {
      "cell_type": "code",
      "source": [
        "Y=np.array([[1, 1, 0], [1, 3, 1], [2, -1, 1]])\n",
        "Yo=gs(Y)"
      ],
      "metadata": {
        "id": "4cdXx_Mn-5Sv"
      },
      "execution_count": null,
      "outputs": []
    },
    {
      "cell_type": "code",
      "source": [
        "np.dot(Yo[1],Yo[2])"
      ],
      "metadata": {
        "id": "akktY2Dx_Gg8"
      },
      "execution_count": null,
      "outputs": []
    },
    {
      "cell_type": "code",
      "source": [
        "Y[1]-proj(Y[1],Y[0])*Y[0]"
      ],
      "metadata": {
        "id": "GNPZb0B5BkdQ"
      },
      "execution_count": null,
      "outputs": []
    },
    {
      "cell_type": "code",
      "source": [],
      "metadata": {
        "id": "TE0UgzVOLSB3"
      },
      "execution_count": null,
      "outputs": []
    }
  ]
}