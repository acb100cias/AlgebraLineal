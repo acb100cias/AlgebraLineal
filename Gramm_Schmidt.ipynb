{
  "cells": [
    {
      "cell_type": "markdown",
      "metadata": {
        "id": "view-in-github",
        "colab_type": "text"
      },
      "source": [
        "<a href=\"https://colab.research.google.com/github/acb100cias/AlgebraLineal/blob/main/Gramm_Schmidt.ipynb\" target=\"_parent\"><img src=\"https://colab.research.google.com/assets/colab-badge.svg\" alt=\"Open In Colab\"/></a>"
      ]
    },
    {
      "cell_type": "code",
      "execution_count": null,
      "id": "ecb7e24e-5609-46bb-8084-89056fe99bf1",
      "metadata": {
        "tags": [],
        "id": "ecb7e24e-5609-46bb-8084-89056fe99bf1"
      },
      "outputs": [],
      "source": [
        "import numpy as np"
      ]
    },
    {
      "cell_type": "code",
      "execution_count": null,
      "id": "e5ae18f7-9baf-498d-951b-c5e0a94b949b",
      "metadata": {
        "tags": [],
        "id": "e5ae18f7-9baf-498d-951b-c5e0a94b949b"
      },
      "outputs": [],
      "source": [
        "def coef_gs(v1,v2):\n",
        "    return np.dot(v1,v2)/np.dot(v1,v1)\n",
        "\n",
        "def mult(coef,v):\n",
        "    va=[]\n",
        "    for i in range(len(v)):\n",
        "        va.append(coef*(v[i]))\n",
        "    return np.array(va)\n",
        "def proy(v1,v2):\n",
        "    return mult(coef_gs(v1,v2),v1)\n"
      ]
    },
    {
      "cell_type": "code",
      "execution_count": null,
      "id": "0d4950a5-cd78-46e2-a3a0-be8a517ff693",
      "metadata": {
        "tags": [],
        "id": "0d4950a5-cd78-46e2-a3a0-be8a517ff693"
      },
      "outputs": [],
      "source": [
        "def aux(v1,v2):\n",
        "    L=[]\n",
        "    for i in range(len(v1)):\n",
        "        L.append(v1[i]-v2[i])\n",
        "    return np.array(L)\n",
        "\n",
        ""
      ]
    },
    {
      "cell_type": "code",
      "execution_count": null,
      "id": "dc8d85e3-cfa8-419d-a8e4-1d1ae215d379",
      "metadata": {
        "tags": [],
        "id": "dc8d85e3-cfa8-419d-a8e4-1d1ae215d379"
      },
      "outputs": [],
      "source": [
        "def gs(X):\n",
        "    Y=[]\n",
        "    for  i in range(len(X)):\n",
        "        vv=X[i]\n",
        "        for vj in Y:\n",
        "            vproy=proy(vj,X[i])\n",
        "            vv=aux(vv,vproy)\n",
        "        Y.append(vv)\n",
        "    return Y"
      ]
    },
    {
      "cell_type": "code",
      "execution_count": null,
      "id": "6a259eec-6eed-40fc-ac25-41ab0f60632b",
      "metadata": {
        "tags": [],
        "id": "6a259eec-6eed-40fc-ac25-41ab0f60632b"
      },
      "outputs": [],
      "source": [
        "ej1=np.array([[3.,1.],[2.,2.]])"
      ]
    },
    {
      "cell_type": "code",
      "execution_count": null,
      "id": "e8bf6707-fa16-4a15-af2d-5f27ac034565",
      "metadata": {
        "tags": [],
        "id": "e8bf6707-fa16-4a15-af2d-5f27ac034565",
        "outputId": "8a106812-b1d2-4ec6-8d3c-2299470e03bc"
      },
      "outputs": [
        {
          "data": {
            "text/plain": [
              "-1.1102230246251565e-15"
            ]
          },
          "execution_count": 78,
          "metadata": {},
          "output_type": "execute_result"
        }
      ],
      "source": [
        "np.dot(gs(ej1)[0],gs(ej1)[1])"
      ]
    },
    {
      "cell_type": "code",
      "execution_count": null,
      "id": "483171a1-5c21-4b5d-8e0c-901b06e9903e",
      "metadata": {
        "tags": [],
        "id": "483171a1-5c21-4b5d-8e0c-901b06e9903e"
      },
      "outputs": [],
      "source": [
        "l=[lambda x,y:x-y for x in ej1  for y in ej1]"
      ]
    },
    {
      "cell_type": "code",
      "execution_count": null,
      "id": "19b7526d-6df3-40e7-b685-ab5863b9fa4b",
      "metadata": {
        "tags": [],
        "id": "19b7526d-6df3-40e7-b685-ab5863b9fa4b"
      },
      "outputs": [],
      "source": [
        "ej2=np.array([[1.0, 1.0, 0.0], [1.0, 3.0, 1.0], [2.0, -1.0, 1.0]])"
      ]
    },
    {
      "cell_type": "code",
      "execution_count": null,
      "id": "f5bc4708-21f0-4afc-aefb-82299a536e29",
      "metadata": {
        "tags": [],
        "id": "f5bc4708-21f0-4afc-aefb-82299a536e29",
        "outputId": "62fccd0f-0c78-4607-e507-c5405e39e634"
      },
      "outputs": [
        {
          "data": {
            "text/plain": [
              "[array([1., 1., 0.]),\n",
              " array([-1.,  1.,  1.]),\n",
              " array([ 0.83333333, -0.83333333,  1.66666667])]"
            ]
          },
          "execution_count": 80,
          "metadata": {},
          "output_type": "execute_result"
        }
      ],
      "source": [
        "gs(ej2)"
      ]
    },
    {
      "cell_type": "code",
      "execution_count": null,
      "id": "c3a45998-bc7d-475b-b376-2d6e76e2a25d",
      "metadata": {
        "tags": [],
        "id": "c3a45998-bc7d-475b-b376-2d6e76e2a25d",
        "outputId": "23c3634c-f0e1-4400-fa09-fa433e74e8e2"
      },
      "outputs": [
        {
          "data": {
            "text/plain": [
              "0.0"
            ]
          },
          "execution_count": 83,
          "metadata": {},
          "output_type": "execute_result"
        }
      ],
      "source": [
        "np.dot(gs(ej2)[0],gs(ej2)[2])"
      ]
    },
    {
      "cell_type": "code",
      "execution_count": null,
      "id": "6c3ed33d-ceac-4178-8b63-d507a3793c38",
      "metadata": {
        "tags": [],
        "id": "6c3ed33d-ceac-4178-8b63-d507a3793c38"
      },
      "outputs": [],
      "source": [
        "from sympy import GramSchmidt, Matrix"
      ]
    },
    {
      "cell_type": "code",
      "execution_count": null,
      "id": "513ea8b9-f9f0-45a5-becb-1139d5a8f6f6",
      "metadata": {
        "tags": [],
        "id": "513ea8b9-f9f0-45a5-becb-1139d5a8f6f6"
      },
      "outputs": [],
      "source": [
        "A = Matrix([[2,-1,3,0,5],\n",
        "            [0,2,-3,1,4],\n",
        "            [-4,2,-6,0,-10],\n",
        "            [2,1,0,1,9]])"
      ]
    },
    {
      "cell_type": "code",
      "execution_count": null,
      "id": "09f7fab2-ed83-45b7-890f-8c3d9c2dd518",
      "metadata": {
        "tags": [],
        "id": "09f7fab2-ed83-45b7-890f-8c3d9c2dd518",
        "outputId": "b57b0aa1-2c47-4604-d4c7-21d87853d3ff"
      },
      "outputs": [
        {
          "data": {
            "text/latex": [
              "$\\displaystyle \\left[\\begin{matrix}2 & -1 & 3 & 0 & 5\\\\0 & 2 & -3 & 1 & 4\\\\-4 & 2 & -6 & 0 & -10\\\\2 & 1 & 0 & 1 & 9\\end{matrix}\\right]$"
            ],
            "text/plain": [
              "Matrix([\n",
              "[ 2, -1,  3, 0,   5],\n",
              "[ 0,  2, -3, 1,   4],\n",
              "[-4,  2, -6, 0, -10],\n",
              "[ 2,  1,  0, 1,   9]])"
            ]
          },
          "execution_count": 87,
          "metadata": {},
          "output_type": "execute_result"
        }
      ],
      "source": [
        "A\n"
      ]
    },
    {
      "cell_type": "code",
      "execution_count": null,
      "id": "8334c73a-2086-4ad9-89ce-ac9f1e7193ab",
      "metadata": {
        "tags": [],
        "id": "8334c73a-2086-4ad9-89ce-ac9f1e7193ab"
      },
      "outputs": [],
      "source": [
        "B=A.nullspace()"
      ]
    },
    {
      "cell_type": "code",
      "execution_count": null,
      "id": "e757d630-6f7c-471d-af77-3cad738e0717",
      "metadata": {
        "tags": [],
        "id": "e757d630-6f7c-471d-af77-3cad738e0717",
        "outputId": "f6657782-826c-4b6a-8e39-0d350b75cf13"
      },
      "outputs": [
        {
          "data": {
            "text/latex": [
              "$\\displaystyle \\left[\\begin{matrix}- \\frac{7}{2}\\\\-2\\\\0\\\\0\\\\1\\end{matrix}\\right]$"
            ],
            "text/plain": [
              "Matrix([\n",
              "[-7/2],\n",
              "[  -2],\n",
              "[   0],\n",
              "[   0],\n",
              "[   1]])"
            ]
          },
          "execution_count": 100,
          "metadata": {},
          "output_type": "execute_result"
        }
      ],
      "source": [
        "B[2]"
      ]
    },
    {
      "cell_type": "code",
      "execution_count": null,
      "id": "b38c5613-dea5-4fca-b9ac-9a150f95950e",
      "metadata": {
        "tags": [],
        "id": "b38c5613-dea5-4fca-b9ac-9a150f95950e",
        "outputId": "12664af8-3fed-48f1-8db1-c371250a1e17"
      },
      "outputs": [
        {
          "data": {
            "text/latex": [
              "$\\displaystyle 0$"
            ],
            "text/plain": [
              "0"
            ]
          },
          "execution_count": 105,
          "metadata": {},
          "output_type": "execute_result"
        }
      ],
      "source": [
        "GramSchmidt(B)[2].dot(GramSchmidt(B)[1])"
      ]
    },
    {
      "cell_type": "code",
      "execution_count": null,
      "id": "30fb637c-ac5f-48b7-a038-a1c9f5b3c2dc",
      "metadata": {
        "id": "30fb637c-ac5f-48b7-a038-a1c9f5b3c2dc"
      },
      "outputs": [],
      "source": []
    }
  ],
  "metadata": {
    "kernelspec": {
      "display_name": "Python 3",
      "language": "python",
      "name": "python3"
    },
    "language_info": {
      "codemirror_mode": {
        "name": "ipython",
        "version": 3
      },
      "file_extension": ".py",
      "mimetype": "text/x-python",
      "name": "python",
      "nbconvert_exporter": "python",
      "pygments_lexer": "ipython3",
      "version": "3.9.2"
    },
    "colab": {
      "provenance": [],
      "include_colab_link": true
    }
  },
  "nbformat": 4,
  "nbformat_minor": 5
}