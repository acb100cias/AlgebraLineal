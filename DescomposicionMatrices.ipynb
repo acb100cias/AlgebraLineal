{
  "nbformat": 4,
  "nbformat_minor": 0,
  "metadata": {
    "colab": {
      "private_outputs": true,
      "provenance": [],
      "authorship_tag": "ABX9TyPaC3AC+Yk7PtTkj0YANI3A",
      "include_colab_link": true
    },
    "kernelspec": {
      "name": "python3",
      "display_name": "Python 3"
    },
    "language_info": {
      "name": "python"
    }
  },
  "cells": [
    {
      "cell_type": "markdown",
      "metadata": {
        "id": "view-in-github",
        "colab_type": "text"
      },
      "source": [
        "<a href=\"https://colab.research.google.com/github/acb100cias/AlgebraLineal/blob/main/DescomposicionMatrices.ipynb\" target=\"_parent\"><img src=\"https://colab.research.google.com/assets/colab-badge.svg\" alt=\"Open In Colab\"/></a>"
      ]
    },
    {
      "cell_type": "code",
      "execution_count": null,
      "metadata": {
        "id": "v1DuMCSrF0rR"
      },
      "outputs": [],
      "source": [
        "import numpy as np"
      ]
    },
    {
      "cell_type": "code",
      "source": [
        "A = np.array([[5, 2, 1, 4, 6],\n",
        "                    [9, 4, 2, 5, 2],\n",
        "                    [11, 5, 7, 3, 9],\n",
        "                    [5, 6, 6, 7, 2],\n",
        "                    [7, 5, 9, 3, 3]])"
      ],
      "metadata": {
        "id": "TEATHRCmH7eG"
      },
      "execution_count": null,
      "outputs": []
    },
    {
      "cell_type": "code",
      "source": [
        "np.round(np.linalg.det(A))"
      ],
      "metadata": {
        "id": "ZPAQIdwEIFxb"
      },
      "execution_count": null,
      "outputs": []
    },
    {
      "cell_type": "code",
      "source": [
        "A_=np.linalg.inv(A)"
      ],
      "metadata": {
        "id": "8guJ1sTPIKjt"
      },
      "execution_count": null,
      "outputs": []
    },
    {
      "cell_type": "code",
      "source": [
        "np.round(A@A_)"
      ],
      "metadata": {
        "id": "KRLzBMRuIvuS"
      },
      "execution_count": null,
      "outputs": []
    },
    {
      "cell_type": "code",
      "source": [],
      "metadata": {
        "id": "ncZ8oKdSI2l_"
      },
      "execution_count": null,
      "outputs": []
    },
    {
      "cell_type": "markdown",
      "source": [
        "Calcular matriz de cofactores"
      ],
      "metadata": {
        "id": "P-iJZy-eJiJB"
      }
    },
    {
      "cell_type": "code",
      "source": [
        "def Mcofactor(matriz):\n",
        "  try:\n",
        "    determinante=np.linalg.det(matriz)\n",
        "    if determinante != 0:\n",
        "      cofactor =None\n",
        "      cofactor=np.linalg.inv(matriz).T*determinante\n",
        "      return cofactor\n",
        "    else:\n",
        "      raise Exception('que bestia eres')\n",
        "  except:\n",
        "    print('Por favor intentelo mas tarde')\n"
      ],
      "metadata": {
        "id": "0MnQTTzQJlkC"
      },
      "execution_count": null,
      "outputs": []
    },
    {
      "cell_type": "code",
      "source": [
        "Mcofactor(A)"
      ],
      "metadata": {
        "id": "uIoUU5HDLy8G"
      },
      "execution_count": null,
      "outputs": []
    },
    {
      "cell_type": "code",
      "source": [
        "np.linalg.inv(A).T*np.linalg.det(A)"
      ],
      "metadata": {
        "id": "_9af5BfhL1_f"
      },
      "execution_count": null,
      "outputs": []
    },
    {
      "cell_type": "code",
      "source": [
        "B=np.array([[2,4,6,11,7,9],[2,4,6,11,7,9],[8,0,3,4,1,1],[1,0,0,0,0,0],[6,7,1,2,2,3],[0,0,1,0,0,0]])"
      ],
      "metadata": {
        "id": "svsmMTCBL9Rw"
      },
      "execution_count": null,
      "outputs": []
    },
    {
      "cell_type": "code",
      "source": [
        "np.linalg.inv(B)"
      ],
      "metadata": {
        "id": "bIFBXSbJNAKq"
      },
      "execution_count": null,
      "outputs": []
    },
    {
      "cell_type": "code",
      "source": [
        "Mcofactor(B)"
      ],
      "metadata": {
        "id": "sDj5jg7vNA3F"
      },
      "execution_count": null,
      "outputs": []
    },
    {
      "cell_type": "code",
      "source": [
        "from scipy.linalg import lu"
      ],
      "metadata": {
        "id": "255w_S-VNM1H"
      },
      "execution_count": null,
      "outputs": []
    },
    {
      "cell_type": "code",
      "source": [
        "Pa,La,Ua=lu(A)"
      ],
      "metadata": {
        "id": "8J44Z4vwONdV"
      },
      "execution_count": null,
      "outputs": []
    },
    {
      "cell_type": "code",
      "source": [
        "np.linalg.det(Pa)"
      ],
      "metadata": {
        "id": "kpItOwpGOUmF"
      },
      "execution_count": null,
      "outputs": []
    },
    {
      "cell_type": "code",
      "source": [
        "from scipy.linalg import qr"
      ],
      "metadata": {
        "id": "EE1ja_DuOmey"
      },
      "execution_count": null,
      "outputs": []
    },
    {
      "cell_type": "code",
      "source": [
        "Qa,Ra=qr(A)"
      ],
      "metadata": {
        "id": "s6Oc-rKsPHXA"
      },
      "execution_count": null,
      "outputs": []
    },
    {
      "cell_type": "code",
      "source": [
        "np.round(Qa.T@Qa)"
      ],
      "metadata": {
        "id": "5KA5q8eWPYEE"
      },
      "execution_count": null,
      "outputs": []
    },
    {
      "cell_type": "code",
      "source": [],
      "metadata": {
        "id": "NIumbpGuPiZV"
      },
      "execution_count": null,
      "outputs": []
    }
  ]
}